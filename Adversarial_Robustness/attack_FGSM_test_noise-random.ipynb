{
 "cells": [
  {
   "cell_type": "code",
   "execution_count": 1,
   "metadata": {
    "colab": {
     "base_uri": "https://localhost:8080/"
    },
    "collapsed": true,
    "id": "pZXTBsp89JI-",
    "outputId": "0a898bd9-ee63-4254-9700-aa5fde16a844"
   },
   "outputs": [
    {
     "name": "stdout",
     "output_type": "stream",
     "text": [
      "Collecting adversarial-robustness-toolbox\n",
      "  Downloading adversarial_robustness_toolbox-1.7.0-py3-none-any.whl (1.1 MB)\n",
      "\u001b[K     |████████████████████████████████| 1.1 MB 949 kB/s eta 0:00:01\n",
      "\u001b[?25hRequirement already satisfied: six in /home/aiffel/anaconda3/envs/aiffel2/lib/python3.7/site-packages (from adversarial-robustness-toolbox) (1.15.0)\n",
      "Requirement already satisfied: tqdm in /home/aiffel/anaconda3/envs/aiffel2/lib/python3.7/site-packages (from adversarial-robustness-toolbox) (4.59.0)\n",
      "Requirement already satisfied: setuptools in /home/aiffel/anaconda3/envs/aiffel2/lib/python3.7/site-packages (from adversarial-robustness-toolbox) (52.0.0.post20210125)\n",
      "Requirement already satisfied: scipy>=1.4.1 in /home/aiffel/anaconda3/envs/aiffel2/lib/python3.7/site-packages (from adversarial-robustness-toolbox) (1.6.2)\n",
      "Requirement already satisfied: scikit-learn<0.24.3,>=0.22.2 in /home/aiffel/anaconda3/envs/aiffel2/lib/python3.7/site-packages (from adversarial-robustness-toolbox) (0.23.0)\n",
      "Requirement already satisfied: numba~=0.53.1 in /home/aiffel/anaconda3/envs/aiffel2/lib/python3.7/site-packages (from adversarial-robustness-toolbox) (0.53.1)\n",
      "Requirement already satisfied: numpy>=1.18.0 in /home/aiffel/anaconda3/envs/aiffel2/lib/python3.7/site-packages (from adversarial-robustness-toolbox) (1.20.1)\n",
      "Requirement already satisfied: llvmlite<0.37,>=0.36.0rc1 in /home/aiffel/anaconda3/envs/aiffel2/lib/python3.7/site-packages (from numba~=0.53.1->adversarial-robustness-toolbox) (0.36.0)\n",
      "Requirement already satisfied: threadpoolctl>=2.0.0 in /home/aiffel/anaconda3/envs/aiffel2/lib/python3.7/site-packages (from scikit-learn<0.24.3,>=0.22.2->adversarial-robustness-toolbox) (2.1.0)\n",
      "Requirement already satisfied: joblib>=0.11 in /home/aiffel/anaconda3/envs/aiffel2/lib/python3.7/site-packages (from scikit-learn<0.24.3,>=0.22.2->adversarial-robustness-toolbox) (1.0.1)\n",
      "Installing collected packages: adversarial-robustness-toolbox\n",
      "Successfully installed adversarial-robustness-toolbox-1.7.0\n"
     ]
    }
   ],
   "source": [
    "! pip install adversarial-robustness-toolbox"
   ]
  },
  {
   "cell_type": "markdown",
   "metadata": {
    "id": "rh1VugmmoMNP"
   },
   "source": [
    "# Module"
   ]
  },
  {
   "cell_type": "code",
   "execution_count": 1,
   "metadata": {
    "id": "4xbdIozPHMjs"
   },
   "outputs": [],
   "source": [
    "#Import Library\n",
    "import random\n",
    "import numpy as np\n",
    "import matplotlib.pyplot as plt\n",
    "import time\n",
    "\n",
    "# TensorFlow with Keras.\n",
    "import tensorflow as tf\n",
    "from tensorflow import keras\n",
    "from tensorflow.keras.models import Model\n",
    "from tensorflow.keras.layers import Input, Dense, Flatten, Conv2D\n",
    "from tensorflow.keras.layers import MaxPooling2D, GlobalAveragePooling2D, Dropout\n",
    "tf.compat.v1.disable_eager_execution()"
   ]
  },
  {
   "cell_type": "markdown",
   "metadata": {
    "id": "NnegeVmVOL_x"
   },
   "source": [
    "### Dataset"
   ]
  },
  {
   "cell_type": "code",
   "execution_count": 2,
   "metadata": {
    "colab": {
     "base_uri": "https://localhost:8080/"
    },
    "id": "8EjcsflYHMsl",
    "outputId": "def334b2-354e-4d15-fb0f-db906359ff9d"
   },
   "outputs": [
    {
     "name": "stdout",
     "output_type": "stream",
     "text": [
      "x_train.shape: (60000, 28, 28)\n",
      "y_train.shape: (60000,)\n",
      "x_test.shape: (10000, 28, 28)\n",
      "y_test.shape: (10000,)\n"
     ]
    }
   ],
   "source": [
    "# MNIST 데이터셋 준비\n",
    "\n",
    "mnist = keras.datasets.mnist\n",
    "\n",
    "(x_train, y_train), (x_test, y_test) = mnist.load_data()   \n",
    "\n",
    "# 각 데이터 크기 출력\n",
    "print(f\"x_train.shape: {x_train.shape}\")\n",
    "print(f\"y_train.shape: {y_train.shape}\")\n",
    "print(f\"x_test.shape: {x_test.shape}\")\n",
    "print(f\"y_test.shape: {y_test.shape}\")"
   ]
  },
  {
   "cell_type": "markdown",
   "metadata": {
    "id": "vJOl3WWCOHEt"
   },
   "source": [
    "# Preprocessing"
   ]
  },
  {
   "cell_type": "code",
   "execution_count": 3,
   "metadata": {
    "colab": {
     "base_uri": "https://localhost:8080/"
    },
    "id": "J55Bl53KK66i",
    "outputId": "8258c4dd-6c8e-47b7-e32c-c84dabecf5f3"
   },
   "outputs": [
    {
     "name": "stdout",
     "output_type": "stream",
     "text": [
      "최소값: 0  최대값: 255\n",
      "최소값: 0.0  최대값: 1.0\n"
     ]
    }
   ],
   "source": [
    "# Normalization - x\n",
    "print('최소값:',np.min(x_train), ' 최대값:',np.max(x_train))\n",
    "\n",
    "x_train_norm = x_train.astype('float32')/255.0\n",
    "x_test_norm = x_test.astype('float32') / 255.0\n",
    "\n",
    "print('최소값:',np.min(x_train_norm), ' 최대값:',np.max(x_train_norm))\n",
    "#print(f\"x_train.shape: {x_train.shape}\")"
   ]
  },
  {
   "cell_type": "code",
   "execution_count": 4,
   "metadata": {
    "id": "9q4KKlVHOA-k"
   },
   "outputs": [],
   "source": [
    "# Normalization - y (One-hot-encoding)\n",
    "y_train = tf.keras.utils.to_categorical(y_train, 10)\n",
    "y_test = tf.keras.utils.to_categorical(y_test, 10)"
   ]
  },
  {
   "cell_type": "markdown",
   "metadata": {
    "id": "H9DiA468PAjP"
   },
   "source": [
    "# Model"
   ]
  },
  {
   "cell_type": "code",
   "execution_count": 5,
   "metadata": {
    "id": "lYyuIUGGTEYd"
   },
   "outputs": [],
   "source": [
    "from keras.layers import Input,Conv2D,Dropout, Dense,Flatten,GlobalAveragePooling2D,MaxPool2D\n",
    "from keras.models import Model\n",
    "\n",
    "#  tf.keras의 Sequential API를 이용하여 LeNet 모델 생성\n",
    "model=keras.models.Sequential()\n",
    "model.add(keras.layers.Conv2D(16, (3,3), activation='relu', input_shape=(28,28,1)))\n",
    "model.add(keras.layers.MaxPool2D(2,2))\n",
    "model.add(keras.layers.Conv2D(32, (3,3), activation='relu'))\n",
    "model.add(keras.layers.MaxPooling2D((2,2)))\n",
    "model.add(keras.layers.Flatten())\n",
    "model.add(keras.layers.Dense(32, activation='relu'))\n",
    "model.add(keras.layers.Dense(10, activation='softmax'))\n"
   ]
  },
  {
   "cell_type": "code",
   "execution_count": 6,
   "metadata": {
    "colab": {
     "base_uri": "https://localhost:8080/"
    },
    "id": "pa18QS7ATbOy",
    "outputId": "00f82e99-d68a-454e-c103-855ae441838c"
   },
   "outputs": [
    {
     "name": "stdout",
     "output_type": "stream",
     "text": [
      "Model: \"sequential\"\n",
      "_________________________________________________________________\n",
      "Layer (type)                 Output Shape              Param #   \n",
      "=================================================================\n",
      "conv2d (Conv2D)              (None, 26, 26, 16)        160       \n",
      "_________________________________________________________________\n",
      "max_pooling2d (MaxPooling2D) (None, 13, 13, 16)        0         \n",
      "_________________________________________________________________\n",
      "conv2d_1 (Conv2D)            (None, 11, 11, 32)        4640      \n",
      "_________________________________________________________________\n",
      "max_pooling2d_1 (MaxPooling2 (None, 5, 5, 32)          0         \n",
      "_________________________________________________________________\n",
      "flatten (Flatten)            (None, 800)               0         \n",
      "_________________________________________________________________\n",
      "dense (Dense)                (None, 32)                25632     \n",
      "_________________________________________________________________\n",
      "dense_1 (Dense)              (None, 10)                330       \n",
      "=================================================================\n",
      "Total params: 30,762\n",
      "Trainable params: 30,762\n",
      "Non-trainable params: 0\n",
      "_________________________________________________________________\n"
     ]
    }
   ],
   "source": [
    "model.summary()"
   ]
  },
  {
   "cell_type": "code",
   "execution_count": 7,
   "metadata": {
    "colab": {
     "base_uri": "https://localhost:8080/"
    },
    "id": "ZniERwfdTfAP",
    "outputId": "8dd27673-f575-418b-af63-541c58ed5f53"
   },
   "outputs": [
    {
     "name": "stdout",
     "output_type": "stream",
     "text": [
      "Before Reshape - x_train_norm shape: (60000, 28, 28)\n",
      "Before Reshape - x_test_norm shape: (10000, 28, 28)\n",
      "After Reshape - x_train_reshaped shape: (60000, 28, 28, 1)\n",
      "After Reshape - x_test_reshaped shape: (10000, 28, 28, 1)\n"
     ]
    }
   ],
   "source": [
    "# 채널수 맞추기\n",
    "print(\"Before Reshape - x_train_norm shape: {}\".format(x_train_norm.shape))\n",
    "print(\"Before Reshape - x_test_norm shape: {}\".format(x_test_norm.shape))\n",
    "\n",
    "x_train_reshaped=x_train_norm.reshape( -1, 28, 28, 1)  # 데이터갯수에 -1을 쓰면 reshape시 자동계산됩니다.\n",
    "x_test_reshaped=x_test_norm.reshape( -1, 28, 28, 1)\n",
    "\n",
    "print(\"After Reshape - x_train_reshaped shape: {}\".format(x_train_reshaped.shape))\n",
    "print(\"After Reshape - x_test_reshaped shape: {}\".format(x_test_reshaped.shape))\n"
   ]
  },
  {
   "cell_type": "markdown",
   "metadata": {
    "id": "Kulo2bQ5T3Of"
   },
   "source": [
    "# Train Model"
   ]
  },
  {
   "cell_type": "code",
   "execution_count": 8,
   "metadata": {
    "id": "DM4EwrcLXL0Z"
   },
   "outputs": [],
   "source": [
    "model.compile(loss=\"categorical_crossentropy\", optimizer=\"adam\", metrics=['accuracy'])\n"
   ]
  },
  {
   "cell_type": "code",
   "execution_count": 9,
   "metadata": {
    "colab": {
     "base_uri": "https://localhost:8080/"
    },
    "id": "B9bhDJhzV5rG",
    "outputId": "9417873e-13ab-42a9-d36b-00f4e8456a99"
   },
   "outputs": [
    {
     "name": "stdout",
     "output_type": "stream",
     "text": [
      "Train on 60000 samples\n",
      "Epoch 1/10\n",
      "60000/60000 [==============================] - 5s 91us/sample - loss: 0.1816 - accuracy: 0.9452\n",
      "Epoch 2/10\n",
      "60000/60000 [==============================] - 3s 49us/sample - loss: 0.0625 - accuracy: 0.9801\n",
      "Epoch 3/10\n",
      "60000/60000 [==============================] - 3s 44us/sample - loss: 0.0460 - accuracy: 0.9855\n",
      "Epoch 4/10\n",
      "60000/60000 [==============================] - 3s 45us/sample - loss: 0.0352 - accuracy: 0.9890\n",
      "Epoch 5/10\n",
      "60000/60000 [==============================] - 3s 48us/sample - loss: 0.0284 - accuracy: 0.9908\n",
      "Epoch 6/10\n",
      "60000/60000 [==============================] - 3s 49us/sample - loss: 0.0234 - accuracy: 0.9924\n",
      "Epoch 7/10\n",
      "60000/60000 [==============================] - 3s 47us/sample - loss: 0.0197 - accuracy: 0.9936\n",
      "Epoch 8/10\n",
      "60000/60000 [==============================] - 3s 53us/sample - loss: 0.0163 - accuracy: 0.9947\n",
      "Epoch 9/10\n",
      "60000/60000 [==============================] - 3s 47us/sample - loss: 0.0147 - accuracy: 0.9951\n",
      "Epoch 10/10\n",
      "60000/60000 [==============================] - 3s 51us/sample - loss: 0.0123 - accuracy: 0.9960\n",
      "CPU times: user 43.6 s, sys: 4.74 s, total: 48.4 s\n",
      "Wall time: 32.2 s\n"
     ]
    },
    {
     "data": {
      "text/plain": [
       "<tensorflow.python.keras.callbacks.History at 0x7f76cfc2ef10>"
      ]
     },
     "execution_count": 9,
     "metadata": {},
     "output_type": "execute_result"
    }
   ],
   "source": [
    "%%time \n",
    "\n",
    "model.fit(x_train_reshaped, y_train, epochs=10)"
   ]
  },
  {
   "cell_type": "markdown",
   "metadata": {
    "id": "QqnKWqeKYaxC"
   },
   "source": [
    "# Model Evaluation"
   ]
  },
  {
   "cell_type": "code",
   "execution_count": 10,
   "metadata": {
    "colab": {
     "base_uri": "https://localhost:8080/"
    },
    "id": "BFnvnfq3sLH3",
    "outputId": "5cc53440-9b4f-4bae-ad3c-baa8fb074630"
   },
   "outputs": [
    {
     "name": "stderr",
     "output_type": "stream",
     "text": [
      "/home/aiffel/anaconda3/envs/aiffel2/lib/python3.7/site-packages/tensorflow/python/keras/engine/training.py:2325: UserWarning: `Model.state_updates` will be removed in a future version. This property should not be used in TensorFlow 2.0, as `updates` are applied automatically.\n",
      "  warnings.warn('`Model.state_updates` will be removed in a future version. '\n"
     ]
    },
    {
     "name": "stdout",
     "output_type": "stream",
     "text": [
      "Accuracy on benign test example: 98.92%\n"
     ]
    }
   ],
   "source": [
    "predictions = model.predict(x_test_reshaped)\n",
    "accuracy = np.sum(np.argmax(predictions, axis=1) == np.argmax(y_test, axis=1)) / len(y_test)\n",
    "print('Accuracy on benign test example: {}%'.format(accuracy*100))"
   ]
  },
  {
   "cell_type": "markdown",
   "metadata": {
    "id": "ZEdCySeYckFe"
   },
   "source": [
    "# Adversarial Examples"
   ]
  },
  {
   "cell_type": "code",
   "execution_count": 11,
   "metadata": {
    "id": "3LQ4TkJJbBOJ"
   },
   "outputs": [],
   "source": [
    "# ART\n",
    "import art\n",
    "from art.estimators.classification import KerasClassifier\n",
    "\n",
    "#Wrap model with ART Keras Classifier\n",
    "estimator = KerasClassifier(model=model, clip_values=(0,1), use_logits=True)"
   ]
  },
  {
   "cell_type": "markdown",
   "metadata": {
    "id": "xZFZ8ojQi_Tr"
   },
   "source": [
    "## 1-1) FGSM_origin\n",
    "### 원본 이미지 x_test"
   ]
  },
  {
   "cell_type": "code",
   "execution_count": 12,
   "metadata": {},
   "outputs": [
    {
     "name": "stdout",
     "output_type": "stream",
     "text": [
      "time: 1.9722373485565186\n",
      "CPU times: user 1.26 s, sys: 542 ms, total: 1.8 s\n",
      "Wall time: 1.97 s\n"
     ]
    }
   ],
   "source": [
    "%%time \n",
    "\n",
    "start = time.time() # 시작 시간 저장\n",
    "\n",
    "from art.attacks.evasion import FastGradientMethod\n",
    "#Create FGSM Instance\n",
    "attack_fgsm = FastGradientMethod(estimator, eps=0.1)\n",
    "\n",
    "#Create Adversarial Examples\n",
    "examples_fgsm = attack_fgsm.generate(x_test_reshaped,y_test)\n",
    "\n",
    "print(\"time:\",time.time()-start) # 실행시간"
   ]
  },
  {
   "cell_type": "code",
   "execution_count": 13,
   "metadata": {
    "scrolled": true
   },
   "outputs": [
    {
     "name": "stdout",
     "output_type": "stream",
     "text": [
      "Accuracy on Adversarial Exmaples: 80.04%\n"
     ]
    }
   ],
   "source": [
    "prediction_fgsm = model.predict(examples_fgsm)\n",
    "\n",
    "acc_fgsm = np.sum(np.argmax(prediction_fgsm, axis=1) == np.argmax(y_test, axis=1)) / len(y_test)\n",
    "print('Accuracy on Adversarial Exmaples: {}%'.format(acc_fgsm * 100))"
   ]
  },
  {
   "cell_type": "markdown",
   "metadata": {
    "id": "xZFZ8ojQi_Tr"
   },
   "source": [
    "## 1-2) FGSM_noise\n",
    "### noise image -> x_test_noise"
   ]
  },
  {
   "cell_type": "code",
   "execution_count": 15,
   "metadata": {},
   "outputs": [],
   "source": [
    "# noise \n",
    "noise = np.random.normal(0,0.05,x_test.shape)\n",
    "x_test_noise1 = x_test_norm + noise\n",
    "x_test_noise1_reshape = x_test_noise1.reshape(-1,28,28,1)"
   ]
  },
  {
   "cell_type": "code",
   "execution_count": 16,
   "metadata": {
    "id": "V6-qdwgqcjeI"
   },
   "outputs": [
    {
     "name": "stdout",
     "output_type": "stream",
     "text": [
      "time: 1.0409772396087646\n",
      "CPU times: user 1.26 s, sys: 119 ms, total: 1.38 s\n",
      "Wall time: 1.04 s\n"
     ]
    }
   ],
   "source": [
    "%%time \n",
    "\n",
    "start = time.time() # 시작 시간 저장\n",
    "\n",
    "from art.attacks.evasion import FastGradientMethod\n",
    "#Create FGSM Instance\n",
    "attack_fgsm = FastGradientMethod(estimator, eps=0.2)\n",
    "\n",
    "#Create Adversarial Examples\n",
    "examples_fgsm = attack_fgsm.generate(x_test_noise1_reshape,y_test)\n",
    "\n",
    "print(\"time:\",time.time()-start) # 실행시간"
   ]
  },
  {
   "cell_type": "code",
   "execution_count": 17,
   "metadata": {
    "colab": {
     "base_uri": "https://localhost:8080/"
    },
    "id": "MKqRbSQUbBRZ",
    "outputId": "7944d557-8522-4ad0-8579-e857185871b9"
   },
   "outputs": [
    {
     "name": "stdout",
     "output_type": "stream",
     "text": [
      "Accuracy on Adversarial Exmaples: 29.65%\n"
     ]
    }
   ],
   "source": [
    "prediction_fgsm = model.predict(examples_fgsm)\n",
    "\n",
    "acc_fgsm = np.sum(np.argmax(prediction_fgsm, axis=1) == np.argmax(y_test, axis=1)) / len(y_test)\n",
    "print('Accuracy on Adversarial Exmaples: {}%'.format(acc_fgsm * 100))"
   ]
  },
  {
   "cell_type": "code",
   "execution_count": null,
   "metadata": {},
   "outputs": [],
   "source": []
  },
  {
   "cell_type": "code",
   "execution_count": 20,
   "metadata": {},
   "outputs": [],
   "source": [
    "# noise \n",
    "noise = np.random.normal(0,0.05,x_test.shape)\n",
    "x_test_noise = x_test_norm + noise\n",
    "x_test_noise_reshape = x_test_noise.reshape(-1,28,28,1)"
   ]
  },
  {
   "cell_type": "code",
   "execution_count": 21,
   "metadata": {},
   "outputs": [
    {
     "name": "stdout",
     "output_type": "stream",
     "text": [
      "time: 1.1782159805297852\n",
      "CPU times: user 1.44 s, sys: 138 ms, total: 1.58 s\n",
      "Wall time: 1.18 s\n"
     ]
    }
   ],
   "source": [
    "%%time \n",
    "\n",
    "start = time.time() # 시작 시간 저장\n",
    "\n",
    "from art.attacks.evasion import FastGradientMethod\n",
    "#Create FGSM Instance\n",
    "attack_fgsm = FastGradientMethod(estimator, eps=0.2)\n",
    "\n",
    "#Create Adversarial Examples\n",
    "examples_fgsm = attack_fgsm.generate(x_test_noise_reshape,y_test)\n",
    "\n",
    "print(\"time:\",time.time()-start) # 실행시간"
   ]
  },
  {
   "cell_type": "code",
   "execution_count": 22,
   "metadata": {
    "scrolled": true
   },
   "outputs": [
    {
     "name": "stdout",
     "output_type": "stream",
     "text": [
      "Accuracy on Adversarial Exmaples: 29.970000000000002%\n"
     ]
    }
   ],
   "source": [
    "prediction_fgsm = model.predict(examples_fgsm)\n",
    "\n",
    "acc_fgsm = np.sum(np.argmax(prediction_fgsm, axis=1) == np.argmax(y_test, axis=1)) / len(y_test)\n",
    "print('Accuracy on Adversarial Exmaples: {}%'.format(acc_fgsm * 100))"
   ]
  },
  {
   "cell_type": "code",
   "execution_count": null,
   "metadata": {},
   "outputs": [],
   "source": []
  },
  {
   "cell_type": "code",
   "execution_count": 23,
   "metadata": {},
   "outputs": [],
   "source": [
    "# noise \n",
    "noise = np.random.normal(0,0.05,x_test.shape)\n",
    "x_test_noise = x_test_norm + noise\n",
    "x_test_noise_reshape = x_test_noise.reshape(-1,28,28,1)"
   ]
  },
  {
   "cell_type": "code",
   "execution_count": 24,
   "metadata": {},
   "outputs": [
    {
     "name": "stdout",
     "output_type": "stream",
     "text": [
      "time: 1.1004486083984375\n",
      "CPU times: user 1.33 s, sys: 121 ms, total: 1.45 s\n",
      "Wall time: 1.1 s\n"
     ]
    }
   ],
   "source": [
    "%%time \n",
    "\n",
    "start = time.time() # 시작 시간 저장\n",
    "\n",
    "from art.attacks.evasion import FastGradientMethod\n",
    "#Create FGSM Instance\n",
    "attack_fgsm = FastGradientMethod(estimator, eps=0.2)\n",
    "\n",
    "#Create Adversarial Examples\n",
    "examples_fgsm = attack_fgsm.generate(x_test_noise_reshape,y_test)\n",
    "\n",
    "print(\"time:\",time.time()-start) # 실행시간"
   ]
  },
  {
   "cell_type": "code",
   "execution_count": 25,
   "metadata": {
    "scrolled": false
   },
   "outputs": [
    {
     "name": "stdout",
     "output_type": "stream",
     "text": [
      "Accuracy on Adversarial Exmaples: 30.09%\n"
     ]
    }
   ],
   "source": [
    "prediction_fgsm = model.predict(examples_fgsm)\n",
    "\n",
    "acc_fgsm = np.sum(np.argmax(prediction_fgsm, axis=1) == np.argmax(y_test, axis=1)) / len(y_test)\n",
    "print('Accuracy on Adversarial Exmaples: {}%'.format(acc_fgsm * 100))"
   ]
  },
  {
   "cell_type": "code",
   "execution_count": null,
   "metadata": {},
   "outputs": [],
   "source": []
  },
  {
   "cell_type": "code",
   "execution_count": 26,
   "metadata": {},
   "outputs": [],
   "source": [
    "# noise \n",
    "noise = np.random.normal(0,0.05,x_test.shape)\n",
    "x_test_noise = x_test_norm + noise\n",
    "x_test_noise_reshape = x_test_noise.reshape(-1,28,28,1)"
   ]
  },
  {
   "cell_type": "code",
   "execution_count": 27,
   "metadata": {},
   "outputs": [
    {
     "name": "stdout",
     "output_type": "stream",
     "text": [
      "time: 1.1194097995758057\n",
      "CPU times: user 1.41 s, sys: 134 ms, total: 1.54 s\n",
      "Wall time: 1.12 s\n"
     ]
    }
   ],
   "source": [
    "%%time \n",
    "\n",
    "start = time.time() # 시작 시간 저장\n",
    "\n",
    "from art.attacks.evasion import FastGradientMethod\n",
    "#Create FGSM Instance\n",
    "attack_fgsm = FastGradientMethod(estimator, eps=0.2)\n",
    "\n",
    "#Create Adversarial Examples\n",
    "examples_fgsm = attack_fgsm.generate(x_test_noise_reshape,y_test)\n",
    "\n",
    "print(\"time:\",time.time()-start) # 실행시간"
   ]
  },
  {
   "cell_type": "code",
   "execution_count": 28,
   "metadata": {
    "scrolled": true
   },
   "outputs": [
    {
     "name": "stdout",
     "output_type": "stream",
     "text": [
      "Accuracy on Adversarial Exmaples: 30.509999999999998%\n"
     ]
    }
   ],
   "source": [
    "prediction_fgsm = model.predict(examples_fgsm)\n",
    "\n",
    "acc_fgsm = np.sum(np.argmax(prediction_fgsm, axis=1) == np.argmax(y_test, axis=1)) / len(y_test)\n",
    "print('Accuracy on Adversarial Exmaples: {}%'.format(acc_fgsm * 100))"
   ]
  },
  {
   "cell_type": "code",
   "execution_count": null,
   "metadata": {},
   "outputs": [],
   "source": []
  },
  {
   "cell_type": "code",
   "execution_count": 29,
   "metadata": {},
   "outputs": [],
   "source": [
    "# noise \n",
    "noise = np.random.normal(0,0.05,x_test.shape)\n",
    "x_test_noise = x_test_norm + noise\n",
    "x_test_noise_reshape = x_test_noise.reshape(-1,28,28,1)"
   ]
  },
  {
   "cell_type": "code",
   "execution_count": 30,
   "metadata": {},
   "outputs": [
    {
     "name": "stdout",
     "output_type": "stream",
     "text": [
      "time: 1.1018917560577393\n",
      "CPU times: user 1.33 s, sys: 113 ms, total: 1.45 s\n",
      "Wall time: 1.1 s\n"
     ]
    }
   ],
   "source": [
    "%%time \n",
    "\n",
    "start = time.time() # 시작 시간 저장\n",
    "\n",
    "from art.attacks.evasion import FastGradientMethod\n",
    "#Create FGSM Instance\n",
    "attack_fgsm = FastGradientMethod(estimator, eps=0.2)\n",
    "\n",
    "#Create Adversarial Examples\n",
    "examples_fgsm = attack_fgsm.generate(x_test_noise_reshape,y_test)\n",
    "\n",
    "print(\"time:\",time.time()-start) # 실행시간"
   ]
  },
  {
   "cell_type": "code",
   "execution_count": 31,
   "metadata": {
    "scrolled": false
   },
   "outputs": [
    {
     "name": "stdout",
     "output_type": "stream",
     "text": [
      "Accuracy on Adversarial Exmaples: 29.959999999999997%\n"
     ]
    }
   ],
   "source": [
    "prediction_fgsm = model.predict(examples_fgsm)\n",
    "\n",
    "acc_fgsm = np.sum(np.argmax(prediction_fgsm, axis=1) == np.argmax(y_test, axis=1)) / len(y_test)\n",
    "print('Accuracy on Adversarial Exmaples: {}%'.format(acc_fgsm * 100))"
   ]
  }
 ],
 "metadata": {
  "colab": {
   "collapsed_sections": [],
   "name": "Adversarial attack_FGM.ipynb",
   "provenance": []
  },
  "kernelspec": {
   "display_name": "Python 3",
   "language": "python",
   "name": "python3"
  },
  "language_info": {
   "codemirror_mode": {
    "name": "ipython",
    "version": 3
   },
   "file_extension": ".py",
   "mimetype": "text/x-python",
   "name": "python",
   "nbconvert_exporter": "python",
   "pygments_lexer": "ipython3",
   "version": "3.7.10"
  }
 },
 "nbformat": 4,
 "nbformat_minor": 1
}
