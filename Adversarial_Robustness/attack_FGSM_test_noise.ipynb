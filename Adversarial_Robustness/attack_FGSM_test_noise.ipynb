{
 "cells": [
  {
   "cell_type": "code",
   "execution_count": 1,
   "metadata": {
    "colab": {
     "base_uri": "https://localhost:8080/"
    },
    "collapsed": true,
    "id": "pZXTBsp89JI-",
    "outputId": "0a898bd9-ee63-4254-9700-aa5fde16a844"
   },
   "outputs": [
    {
     "name": "stdout",
     "output_type": "stream",
     "text": [
      "Collecting adversarial-robustness-toolbox\n",
      "  Downloading adversarial_robustness_toolbox-1.7.0-py3-none-any.whl (1.1 MB)\n",
      "\u001b[K     |████████████████████████████████| 1.1 MB 949 kB/s eta 0:00:01\n",
      "\u001b[?25hRequirement already satisfied: six in /home/aiffel/anaconda3/envs/aiffel2/lib/python3.7/site-packages (from adversarial-robustness-toolbox) (1.15.0)\n",
      "Requirement already satisfied: tqdm in /home/aiffel/anaconda3/envs/aiffel2/lib/python3.7/site-packages (from adversarial-robustness-toolbox) (4.59.0)\n",
      "Requirement already satisfied: setuptools in /home/aiffel/anaconda3/envs/aiffel2/lib/python3.7/site-packages (from adversarial-robustness-toolbox) (52.0.0.post20210125)\n",
      "Requirement already satisfied: scipy>=1.4.1 in /home/aiffel/anaconda3/envs/aiffel2/lib/python3.7/site-packages (from adversarial-robustness-toolbox) (1.6.2)\n",
      "Requirement already satisfied: scikit-learn<0.24.3,>=0.22.2 in /home/aiffel/anaconda3/envs/aiffel2/lib/python3.7/site-packages (from adversarial-robustness-toolbox) (0.23.0)\n",
      "Requirement already satisfied: numba~=0.53.1 in /home/aiffel/anaconda3/envs/aiffel2/lib/python3.7/site-packages (from adversarial-robustness-toolbox) (0.53.1)\n",
      "Requirement already satisfied: numpy>=1.18.0 in /home/aiffel/anaconda3/envs/aiffel2/lib/python3.7/site-packages (from adversarial-robustness-toolbox) (1.20.1)\n",
      "Requirement already satisfied: llvmlite<0.37,>=0.36.0rc1 in /home/aiffel/anaconda3/envs/aiffel2/lib/python3.7/site-packages (from numba~=0.53.1->adversarial-robustness-toolbox) (0.36.0)\n",
      "Requirement already satisfied: threadpoolctl>=2.0.0 in /home/aiffel/anaconda3/envs/aiffel2/lib/python3.7/site-packages (from scikit-learn<0.24.3,>=0.22.2->adversarial-robustness-toolbox) (2.1.0)\n",
      "Requirement already satisfied: joblib>=0.11 in /home/aiffel/anaconda3/envs/aiffel2/lib/python3.7/site-packages (from scikit-learn<0.24.3,>=0.22.2->adversarial-robustness-toolbox) (1.0.1)\n",
      "Installing collected packages: adversarial-robustness-toolbox\n",
      "Successfully installed adversarial-robustness-toolbox-1.7.0\n"
     ]
    }
   ],
   "source": [
    "! pip install adversarial-robustness-toolbox"
   ]
  },
  {
   "cell_type": "markdown",
   "metadata": {
    "id": "rh1VugmmoMNP"
   },
   "source": [
    "# Module"
   ]
  },
  {
   "cell_type": "code",
   "execution_count": 1,
   "metadata": {
    "id": "4xbdIozPHMjs"
   },
   "outputs": [],
   "source": [
    "#Import Library\n",
    "import random\n",
    "import numpy as np\n",
    "import matplotlib.pyplot as plt\n",
    "import time\n",
    "\n",
    "# TensorFlow with Keras.\n",
    "import tensorflow as tf\n",
    "from tensorflow import keras\n",
    "from tensorflow.keras.models import Model\n",
    "from tensorflow.keras.layers import Input, Dense, Flatten, Conv2D\n",
    "from tensorflow.keras.layers import MaxPooling2D, GlobalAveragePooling2D, Dropout\n",
    "tf.compat.v1.disable_eager_execution()"
   ]
  },
  {
   "cell_type": "markdown",
   "metadata": {
    "id": "NnegeVmVOL_x"
   },
   "source": [
    "### Dataset"
   ]
  },
  {
   "cell_type": "code",
   "execution_count": 2,
   "metadata": {
    "colab": {
     "base_uri": "https://localhost:8080/"
    },
    "id": "8EjcsflYHMsl",
    "outputId": "def334b2-354e-4d15-fb0f-db906359ff9d"
   },
   "outputs": [
    {
     "name": "stdout",
     "output_type": "stream",
     "text": [
      "x_train.shape: (60000, 28, 28)\n",
      "y_train.shape: (60000,)\n",
      "x_test.shape: (10000, 28, 28)\n",
      "y_test.shape: (10000,)\n"
     ]
    }
   ],
   "source": [
    "# MNIST 데이터셋 준비\n",
    "\n",
    "mnist = keras.datasets.mnist\n",
    "\n",
    "(x_train, y_train), (x_test, y_test) = mnist.load_data()   \n",
    "\n",
    "# 각 데이터 크기 출력\n",
    "print(f\"x_train.shape: {x_train.shape}\")\n",
    "print(f\"y_train.shape: {y_train.shape}\")\n",
    "print(f\"x_test.shape: {x_test.shape}\")\n",
    "print(f\"y_test.shape: {y_test.shape}\")"
   ]
  },
  {
   "cell_type": "markdown",
   "metadata": {
    "id": "vJOl3WWCOHEt"
   },
   "source": [
    "# Preprocessing"
   ]
  },
  {
   "cell_type": "code",
   "execution_count": 3,
   "metadata": {
    "colab": {
     "base_uri": "https://localhost:8080/"
    },
    "id": "J55Bl53KK66i",
    "outputId": "8258c4dd-6c8e-47b7-e32c-c84dabecf5f3"
   },
   "outputs": [
    {
     "name": "stdout",
     "output_type": "stream",
     "text": [
      "최소값: 0  최대값: 255\n",
      "최소값: 0.0  최대값: 1.0\n"
     ]
    }
   ],
   "source": [
    "# Normalization - x\n",
    "print('최소값:',np.min(x_train), ' 최대값:',np.max(x_train))\n",
    "\n",
    "x_train_norm = x_train.astype('float32')/255.0\n",
    "x_test_norm = x_test.astype('float32') / 255.0\n",
    "\n",
    "print('최소값:',np.min(x_train_norm), ' 최대값:',np.max(x_train_norm))\n",
    "#print(f\"x_train.shape: {x_train.shape}\")"
   ]
  },
  {
   "cell_type": "code",
   "execution_count": 4,
   "metadata": {
    "id": "9q4KKlVHOA-k"
   },
   "outputs": [],
   "source": [
    "# Normalization - y (One-hot-encoding)\n",
    "y_train = tf.keras.utils.to_categorical(y_train, 10)\n",
    "y_test = tf.keras.utils.to_categorical(y_test, 10)"
   ]
  },
  {
   "cell_type": "markdown",
   "metadata": {
    "id": "H9DiA468PAjP"
   },
   "source": [
    "# Model"
   ]
  },
  {
   "cell_type": "code",
   "execution_count": 5,
   "metadata": {
    "id": "lYyuIUGGTEYd"
   },
   "outputs": [],
   "source": [
    "from keras.layers import Input,Conv2D,Dropout, Dense,Flatten,GlobalAveragePooling2D,MaxPool2D\n",
    "from keras.models import Model\n",
    "\n",
    "#  tf.keras의 Sequential API를 이용하여 LeNet 모델 생성\n",
    "model=keras.models.Sequential()\n",
    "model.add(keras.layers.Conv2D(16, (3,3), activation='relu', input_shape=(28,28,1)))\n",
    "model.add(keras.layers.MaxPool2D(2,2))\n",
    "model.add(keras.layers.Conv2D(32, (3,3), activation='relu'))\n",
    "model.add(keras.layers.MaxPooling2D((2,2)))\n",
    "model.add(keras.layers.Flatten())\n",
    "model.add(keras.layers.Dense(32, activation='relu'))\n",
    "model.add(keras.layers.Dense(10, activation='softmax'))\n"
   ]
  },
  {
   "cell_type": "code",
   "execution_count": 6,
   "metadata": {
    "colab": {
     "base_uri": "https://localhost:8080/"
    },
    "id": "pa18QS7ATbOy",
    "outputId": "00f82e99-d68a-454e-c103-855ae441838c"
   },
   "outputs": [
    {
     "name": "stdout",
     "output_type": "stream",
     "text": [
      "Model: \"sequential\"\n",
      "_________________________________________________________________\n",
      "Layer (type)                 Output Shape              Param #   \n",
      "=================================================================\n",
      "conv2d (Conv2D)              (None, 26, 26, 16)        160       \n",
      "_________________________________________________________________\n",
      "max_pooling2d (MaxPooling2D) (None, 13, 13, 16)        0         \n",
      "_________________________________________________________________\n",
      "conv2d_1 (Conv2D)            (None, 11, 11, 32)        4640      \n",
      "_________________________________________________________________\n",
      "max_pooling2d_1 (MaxPooling2 (None, 5, 5, 32)          0         \n",
      "_________________________________________________________________\n",
      "flatten (Flatten)            (None, 800)               0         \n",
      "_________________________________________________________________\n",
      "dense (Dense)                (None, 32)                25632     \n",
      "_________________________________________________________________\n",
      "dense_1 (Dense)              (None, 10)                330       \n",
      "=================================================================\n",
      "Total params: 30,762\n",
      "Trainable params: 30,762\n",
      "Non-trainable params: 0\n",
      "_________________________________________________________________\n"
     ]
    }
   ],
   "source": [
    "model.summary()"
   ]
  },
  {
   "cell_type": "code",
   "execution_count": 7,
   "metadata": {
    "colab": {
     "base_uri": "https://localhost:8080/"
    },
    "id": "ZniERwfdTfAP",
    "outputId": "8dd27673-f575-418b-af63-541c58ed5f53"
   },
   "outputs": [
    {
     "name": "stdout",
     "output_type": "stream",
     "text": [
      "Before Reshape - x_train_norm shape: (60000, 28, 28)\n",
      "Before Reshape - x_test_norm shape: (10000, 28, 28)\n",
      "After Reshape - x_train_reshaped shape: (60000, 28, 28, 1)\n",
      "After Reshape - x_test_reshaped shape: (10000, 28, 28, 1)\n"
     ]
    }
   ],
   "source": [
    "# 채널수 맞추기\n",
    "print(\"Before Reshape - x_train_norm shape: {}\".format(x_train_norm.shape))\n",
    "print(\"Before Reshape - x_test_norm shape: {}\".format(x_test_norm.shape))\n",
    "\n",
    "x_train_reshaped=x_train_norm.reshape( -1, 28, 28, 1)  # 데이터갯수에 -1을 쓰면 reshape시 자동계산됩니다.\n",
    "x_test_reshaped=x_test_norm.reshape( -1, 28, 28, 1)\n",
    "\n",
    "print(\"After Reshape - x_train_reshaped shape: {}\".format(x_train_reshaped.shape))\n",
    "print(\"After Reshape - x_test_reshaped shape: {}\".format(x_test_reshaped.shape))\n"
   ]
  },
  {
   "cell_type": "markdown",
   "metadata": {
    "id": "Kulo2bQ5T3Of"
   },
   "source": [
    "# Train Model"
   ]
  },
  {
   "cell_type": "code",
   "execution_count": 8,
   "metadata": {
    "id": "DM4EwrcLXL0Z"
   },
   "outputs": [],
   "source": [
    "model.compile(loss=\"categorical_crossentropy\", optimizer=\"adam\", metrics=['accuracy'])\n"
   ]
  },
  {
   "cell_type": "code",
   "execution_count": 22,
   "metadata": {
    "colab": {
     "base_uri": "https://localhost:8080/"
    },
    "id": "B9bhDJhzV5rG",
    "outputId": "9417873e-13ab-42a9-d36b-00f4e8456a99"
   },
   "outputs": [
    {
     "name": "stdout",
     "output_type": "stream",
     "text": [
      "Train on 60000 samples\n",
      "Epoch 1/10\n",
      "60000/60000 [==============================] - 3s 46us/sample - loss: 0.0126 - accuracy: 0.9964\n",
      "Epoch 2/10\n",
      "60000/60000 [==============================] - 3s 51us/sample - loss: 0.0122 - accuracy: 0.9959\n",
      "Epoch 3/10\n",
      "60000/60000 [==============================] - 3s 44us/sample - loss: 0.0102 - accuracy: 0.9967\n",
      "Epoch 4/10\n",
      "60000/60000 [==============================] - 3s 45us/sample - loss: 0.0082 - accuracy: 0.9974\n",
      "Epoch 5/10\n",
      "60000/60000 [==============================] - 3s 45us/sample - loss: 0.0086 - accuracy: 0.9969\n",
      "Epoch 6/10\n",
      "60000/60000 [==============================] - 3s 46us/sample - loss: 0.0075 - accuracy: 0.9974\n",
      "Epoch 7/10\n",
      "60000/60000 [==============================] - 3s 46us/sample - loss: 0.0076 - accuracy: 0.9975\n",
      "Epoch 8/10\n",
      "60000/60000 [==============================] - 3s 46us/sample - loss: 0.0067 - accuracy: 0.9979\n",
      "Epoch 9/10\n",
      "60000/60000 [==============================] - 3s 46us/sample - loss: 0.0053 - accuracy: 0.9983\n",
      "Epoch 10/10\n",
      "60000/60000 [==============================] - 3s 45us/sample - loss: 0.0062 - accuracy: 0.9978\n",
      "CPU times: user 40.4 s, sys: 3.94 s, total: 44.3 s\n",
      "Wall time: 27.7 s\n"
     ]
    },
    {
     "data": {
      "text/plain": [
       "<tensorflow.python.keras.callbacks.History at 0x7f16005d9390>"
      ]
     },
     "execution_count": 22,
     "metadata": {},
     "output_type": "execute_result"
    }
   ],
   "source": [
    "%%time \n",
    "\n",
    "model.fit(x_train_reshaped, y_train, epochs=10)"
   ]
  },
  {
   "cell_type": "markdown",
   "metadata": {
    "id": "QqnKWqeKYaxC"
   },
   "source": [
    "# Model Evaluation"
   ]
  },
  {
   "cell_type": "code",
   "execution_count": 30,
   "metadata": {
    "colab": {
     "base_uri": "https://localhost:8080/"
    },
    "id": "BFnvnfq3sLH3",
    "outputId": "5cc53440-9b4f-4bae-ad3c-baa8fb074630"
   },
   "outputs": [
    {
     "name": "stdout",
     "output_type": "stream",
     "text": [
      "Accuracy on benign test example: 99.05000000000001%\n"
     ]
    }
   ],
   "source": [
    "predictions = model.predict(x_test_reshaped)\n",
    "accuracy = np.sum(np.argmax(predictions, axis=1) == np.argmax(y_test, axis=1)) / len(y_test)\n",
    "print('Accuracy on benign test example: {}%'.format(accuracy*100))"
   ]
  },
  {
   "cell_type": "markdown",
   "metadata": {
    "id": "ZEdCySeYckFe"
   },
   "source": [
    "# Adversarial Examples"
   ]
  },
  {
   "cell_type": "code",
   "execution_count": 31,
   "metadata": {
    "id": "3LQ4TkJJbBOJ"
   },
   "outputs": [],
   "source": [
    "# ART\n",
    "import art\n",
    "from art.estimators.classification import KerasClassifier\n",
    "\n",
    "#Wrap model with ART Keras Classifier\n",
    "estimator = KerasClassifier(model=model, clip_values=(0,1), use_logits=True)"
   ]
  },
  {
   "cell_type": "markdown",
   "metadata": {
    "id": "xZFZ8ojQi_Tr"
   },
   "source": [
    "## 1-1) FGSM_origin\n",
    "### 원본 이미지 x_test"
   ]
  },
  {
   "cell_type": "code",
   "execution_count": 32,
   "metadata": {},
   "outputs": [
    {
     "name": "stdout",
     "output_type": "stream",
     "text": [
      "time: 1.2118821144104004\n",
      "CPU times: user 1.59 s, sys: 75.9 ms, total: 1.67 s\n",
      "Wall time: 1.21 s\n"
     ]
    }
   ],
   "source": [
    "%%time \n",
    "\n",
    "start = time.time() # 시작 시간 저장\n",
    "\n",
    "from art.attacks.evasion import FastGradientMethod\n",
    "#Create FGSM Instance\n",
    "attack_fgsm = FastGradientMethod(estimator, eps=0.1)\n",
    "\n",
    "#Create Adversarial Examples\n",
    "examples_fgsm = attack_fgsm.generate(x_test_reshaped,y_test)\n",
    "\n",
    "print(\"time:\",time.time()-start) # 실행시간"
   ]
  },
  {
   "cell_type": "code",
   "execution_count": 33,
   "metadata": {
    "scrolled": true
   },
   "outputs": [
    {
     "name": "stdout",
     "output_type": "stream",
     "text": [
      "Accuracy on Adversarial Exmaples: 82.07%\n"
     ]
    }
   ],
   "source": [
    "prediction_fgsm = model.predict(examples_fgsm)\n",
    "\n",
    "acc_fgsm = np.sum(np.argmax(prediction_fgsm, axis=1) == np.argmax(y_test, axis=1)) / len(y_test)\n",
    "print('Accuracy on Adversarial Exmaples: {}%'.format(acc_fgsm * 100))"
   ]
  },
  {
   "cell_type": "markdown",
   "metadata": {
    "id": "xZFZ8ojQi_Tr"
   },
   "source": [
    "## 1-2) FGSM_noise\n",
    "### noise image -> x_test_noise"
   ]
  },
  {
   "cell_type": "code",
   "execution_count": 34,
   "metadata": {},
   "outputs": [],
   "source": [
    "# noise \n",
    "noise = np.random.normal(0,0.01,x_test.shape)\n",
    "x_test_noise1 = x_test_norm + noise\n",
    "x_test_noise1_reshape = x_test_noise1.reshape(-1,28,28,1)"
   ]
  },
  {
   "cell_type": "code",
   "execution_count": 35,
   "metadata": {
    "id": "V6-qdwgqcjeI"
   },
   "outputs": [
    {
     "name": "stdout",
     "output_type": "stream",
     "text": [
      "time: 1.2127604484558105\n",
      "CPU times: user 1.57 s, sys: 98.7 ms, total: 1.67 s\n",
      "Wall time: 1.21 s\n"
     ]
    }
   ],
   "source": [
    "%%time \n",
    "\n",
    "start = time.time() # 시작 시간 저장\n",
    "\n",
    "from art.attacks.evasion import FastGradientMethod\n",
    "#Create FGSM Instance\n",
    "attack_fgsm = FastGradientMethod(estimator, eps=0.1)\n",
    "\n",
    "#Create Adversarial Examples\n",
    "examples_fgsm = attack_fgsm.generate(x_test_noise1_reshape,y_test)\n",
    "\n",
    "print(\"time:\",time.time()-start) # 실행시간"
   ]
  },
  {
   "cell_type": "code",
   "execution_count": 36,
   "metadata": {
    "colab": {
     "base_uri": "https://localhost:8080/"
    },
    "id": "MKqRbSQUbBRZ",
    "outputId": "7944d557-8522-4ad0-8579-e857185871b9"
   },
   "outputs": [
    {
     "name": "stdout",
     "output_type": "stream",
     "text": [
      "Accuracy on Adversarial Exmaples: 81.64%\n"
     ]
    }
   ],
   "source": [
    "prediction_fgsm = model.predict(examples_fgsm)\n",
    "\n",
    "acc_fgsm = np.sum(np.argmax(prediction_fgsm, axis=1) == np.argmax(y_test, axis=1)) / len(y_test)\n",
    "print('Accuracy on Adversarial Exmaples: {}%'.format(acc_fgsm * 100))"
   ]
  },
  {
   "cell_type": "markdown",
   "metadata": {},
   "source": [
    "## noise 2 - sigma-0.03"
   ]
  },
  {
   "cell_type": "code",
   "execution_count": 24,
   "metadata": {},
   "outputs": [],
   "source": [
    "# noise 2\n",
    "noise2 = np.random.normal(0,0.03,x_test.shape)\n",
    "x_test_noise2 = x_test_norm + noise2\n",
    "x_test_noise2_reshape = x_test_noise2.reshape(-1,28,28,1)"
   ]
  },
  {
   "cell_type": "code",
   "execution_count": 25,
   "metadata": {},
   "outputs": [
    {
     "name": "stdout",
     "output_type": "stream",
     "text": [
      "time: 1.0603363513946533\n",
      "CPU times: user 1.28 s, sys: 148 ms, total: 1.43 s\n",
      "Wall time: 1.06 s\n"
     ]
    }
   ],
   "source": [
    "%%time \n",
    "\n",
    "start = time.time() # 시작 시간 저장\n",
    "\n",
    "from art.attacks.evasion import FastGradientMethod\n",
    "#Create FGSM Instance\n",
    "attack_fgsm = FastGradientMethod(estimator, eps=0.1)\n",
    "\n",
    "#Create Adversarial Examples\n",
    "examples_fgsm = attack_fgsm.generate(x_test_noise2_reshape,y_test)\n",
    "\n",
    "print(\"time:\",time.time()-start) # 실행시간"
   ]
  },
  {
   "cell_type": "code",
   "execution_count": 26,
   "metadata": {
    "scrolled": true
   },
   "outputs": [
    {
     "name": "stdout",
     "output_type": "stream",
     "text": [
      "Accuracy on Adversarial Exmaples: 80.28%\n"
     ]
    }
   ],
   "source": [
    "prediction_fgsm = model.predict(examples_fgsm)\n",
    "\n",
    "acc_fgsm = np.sum(np.argmax(prediction_fgsm, axis=1) == np.argmax(y_test, axis=1)) / len(y_test)\n",
    "print('Accuracy on Adversarial Exmaples: {}%'.format(acc_fgsm * 100))"
   ]
  },
  {
   "cell_type": "markdown",
   "metadata": {},
   "source": [
    "## noise 3 - sigma-0.05"
   ]
  },
  {
   "cell_type": "code",
   "execution_count": 38,
   "metadata": {},
   "outputs": [],
   "source": [
    "# noise 3\n",
    "noise3 = np.random.normal(0,0.05,x_test.shape)\n",
    "x_test_noise3 = x_test_norm + noise3\n",
    "x_test_noise3_reshape = x_test_noise3.reshape(-1,28,28,1)"
   ]
  },
  {
   "cell_type": "code",
   "execution_count": 45,
   "metadata": {},
   "outputs": [
    {
     "name": "stdout",
     "output_type": "stream",
     "text": [
      "time: 1.0697588920593262\n",
      "CPU times: user 1.33 s, sys: 116 ms, total: 1.44 s\n",
      "Wall time: 1.07 s\n"
     ]
    }
   ],
   "source": [
    "%%time \n",
    "\n",
    "start = time.time() # 시작 시간 저장\n",
    "\n",
    "from art.attacks.evasion import FastGradientMethod\n",
    "#Create FGSM Instance\n",
    "attack_fgsm = FastGradientMethod(estimator, eps=0.1)\n",
    "\n",
    "#Create Adversarial Examples\n",
    "examples_fgsm = attack_fgsm.generate(x_test_noise3_reshape,y_test)\n",
    "\n",
    "print(\"time:\",time.time()-start) # 실행시간"
   ]
  },
  {
   "cell_type": "code",
   "execution_count": 46,
   "metadata": {
    "scrolled": false
   },
   "outputs": [
    {
     "name": "stdout",
     "output_type": "stream",
     "text": [
      "Accuracy on Adversarial Exmaples: 79.32000000000001%\n"
     ]
    }
   ],
   "source": [
    "prediction_fgsm = model.predict(examples_fgsm)\n",
    "\n",
    "acc_fgsm = np.sum(np.argmax(prediction_fgsm, axis=1) == np.argmax(y_test, axis=1)) / len(y_test)\n",
    "print('Accuracy on Adversarial Exmaples: {}%'.format(acc_fgsm * 100))"
   ]
  },
  {
   "cell_type": "markdown",
   "metadata": {},
   "source": [
    "## noise 4 - sigma-0.07"
   ]
  },
  {
   "cell_type": "code",
   "execution_count": 48,
   "metadata": {},
   "outputs": [],
   "source": [
    "# noise 4\n",
    "noise4 = np.random.normal(0,0.07,x_test.shape)\n",
    "x_test_noise4 = x_test_norm + noise4\n",
    "x_test_noise4_reshape = x_test_noise4.reshape(-1,28,28,1)"
   ]
  },
  {
   "cell_type": "code",
   "execution_count": 49,
   "metadata": {},
   "outputs": [
    {
     "name": "stdout",
     "output_type": "stream",
     "text": [
      "time: 1.3033349514007568\n",
      "CPU times: user 1.66 s, sys: 111 ms, total: 1.77 s\n",
      "Wall time: 1.3 s\n"
     ]
    }
   ],
   "source": [
    "%%time \n",
    "\n",
    "start = time.time() # 시작 시간 저장\n",
    "\n",
    "from art.attacks.evasion import FastGradientMethod\n",
    "#Create FGSM Instance\n",
    "attack_fgsm = FastGradientMethod(estimator, eps=0.1)\n",
    "\n",
    "#Create Adversarial Examples\n",
    "examples_fgsm = attack_fgsm.generate(x_test_noise4_reshape,y_test)\n",
    "\n",
    "print(\"time:\",time.time()-start) # 실행시간"
   ]
  },
  {
   "cell_type": "code",
   "execution_count": 50,
   "metadata": {
    "scrolled": true
   },
   "outputs": [
    {
     "name": "stdout",
     "output_type": "stream",
     "text": [
      "Accuracy on Adversarial Exmaples: 77.52%\n"
     ]
    }
   ],
   "source": [
    "prediction_fgsm = model.predict(examples_fgsm)\n",
    "\n",
    "acc_fgsm = np.sum(np.argmax(prediction_fgsm, axis=1) == np.argmax(y_test, axis=1)) / len(y_test)\n",
    "print('Accuracy on Adversarial Exmaples: {}%'.format(acc_fgsm * 100))"
   ]
  },
  {
   "cell_type": "markdown",
   "metadata": {},
   "source": [
    "## noise 5 - sigma-0.1"
   ]
  },
  {
   "cell_type": "code",
   "execution_count": 51,
   "metadata": {},
   "outputs": [],
   "source": [
    "# noise 5\n",
    "noise5 = np.random.normal(0,0.1,x_test.shape)\n",
    "x_test_noise5 = x_test_norm + noise5\n",
    "x_test_noise5_reshape = x_test_noise5.reshape(-1,28,28,1)"
   ]
  },
  {
   "cell_type": "code",
   "execution_count": 52,
   "metadata": {},
   "outputs": [
    {
     "name": "stdout",
     "output_type": "stream",
     "text": [
      "time: 1.190345287322998\n",
      "CPU times: user 1.47 s, sys: 129 ms, total: 1.6 s\n",
      "Wall time: 1.19 s\n"
     ]
    }
   ],
   "source": [
    "%%time \n",
    "\n",
    "start = time.time() # 시작 시간 저장\n",
    "\n",
    "from art.attacks.evasion import FastGradientMethod\n",
    "#Create FGSM Instance\n",
    "attack_fgsm = FastGradientMethod(estimator, eps=0.1)\n",
    "\n",
    "#Create Adversarial Examples\n",
    "examples_fgsm = attack_fgsm.generate(x_test_noise5_reshape,y_test)\n",
    "\n",
    "print(\"time:\",time.time()-start) # 실행시간"
   ]
  },
  {
   "cell_type": "code",
   "execution_count": 53,
   "metadata": {
    "scrolled": false
   },
   "outputs": [
    {
     "name": "stdout",
     "output_type": "stream",
     "text": [
      "Accuracy on Adversarial Exmaples: 73.22%\n"
     ]
    }
   ],
   "source": [
    "prediction_fgsm = model.predict(examples_fgsm)\n",
    "\n",
    "acc_fgsm = np.sum(np.argmax(prediction_fgsm, axis=1) == np.argmax(y_test, axis=1)) / len(y_test)\n",
    "print('Accuracy on Adversarial Exmaples: {}%'.format(acc_fgsm * 100))"
   ]
  },
  {
   "cell_type": "markdown",
   "metadata": {},
   "source": [
    "## noise 6 - sigma-0.2"
   ]
  },
  {
   "cell_type": "code",
   "execution_count": 55,
   "metadata": {},
   "outputs": [],
   "source": [
    "# noise 6\n",
    "noise6 = np.random.normal(0,0.2,x_test.shape)\n",
    "x_test_noise6 = x_test_norm + noise6\n",
    "x_test_noise6_reshape = x_test_noise6.reshape(-1,28,28,1)"
   ]
  },
  {
   "cell_type": "code",
   "execution_count": 56,
   "metadata": {},
   "outputs": [
    {
     "name": "stdout",
     "output_type": "stream",
     "text": [
      "time: 1.0454323291778564\n",
      "CPU times: user 1.28 s, sys: 99.1 ms, total: 1.38 s\n",
      "Wall time: 1.05 s\n"
     ]
    }
   ],
   "source": [
    "%%time \n",
    "\n",
    "start = time.time() # 시작 시간 저장\n",
    "\n",
    "from art.attacks.evasion import FastGradientMethod\n",
    "#Create FGSM Instance\n",
    "attack_fgsm = FastGradientMethod(estimator, eps=0.1)\n",
    "\n",
    "#Create Adversarial Examples\n",
    "examples_fgsm = attack_fgsm.generate(x_test_noise6_reshape,y_test)\n",
    "\n",
    "print(\"time:\",time.time()-start) # 실행시간"
   ]
  },
  {
   "cell_type": "code",
   "execution_count": 57,
   "metadata": {
    "scrolled": true
   },
   "outputs": [
    {
     "name": "stdout",
     "output_type": "stream",
     "text": [
      "Accuracy on Adversarial Exmaples: 47.839999999999996%\n"
     ]
    }
   ],
   "source": [
    "prediction_fgsm = model.predict(examples_fgsm)\n",
    "\n",
    "acc_fgsm = np.sum(np.argmax(prediction_fgsm, axis=1) == np.argmax(y_test, axis=1)) / len(y_test)\n",
    "print('Accuracy on Adversarial Exmaples: {}%'.format(acc_fgsm * 100))"
   ]
  },
  {
   "cell_type": "markdown",
   "metadata": {
    "id": "1gb-mQOFholG"
   },
   "source": [
    "# 1-2. FGSM eps=0.2"
   ]
  },
  {
   "cell_type": "markdown",
   "metadata": {
    "id": "xZFZ8ojQi_Tr"
   },
   "source": [
    "## 1-1) FGSM_origin\n",
    "### 원본 이미지 x_test"
   ]
  },
  {
   "cell_type": "code",
   "execution_count": 58,
   "metadata": {},
   "outputs": [
    {
     "name": "stdout",
     "output_type": "stream",
     "text": [
      "time: 1.1974897384643555\n",
      "CPU times: user 1.55 s, sys: 117 ms, total: 1.67 s\n",
      "Wall time: 1.2 s\n"
     ]
    }
   ],
   "source": [
    "%%time \n",
    "\n",
    "start = time.time() # 시작 시간 저장\n",
    "\n",
    "from art.attacks.evasion import FastGradientMethod\n",
    "#Create FGSM Instance\n",
    "attack_fgsm = FastGradientMethod(estimator, eps=0.2)\n",
    "\n",
    "#Create Adversarial Examples\n",
    "examples_fgsm = attack_fgsm.generate(x_test_reshaped,y_test)\n",
    "\n",
    "print(\"time:\",time.time()-start) # 실행시간"
   ]
  },
  {
   "cell_type": "code",
   "execution_count": 59,
   "metadata": {},
   "outputs": [
    {
     "name": "stdout",
     "output_type": "stream",
     "text": [
      "Accuracy on Adversarial Exmaples: 59.089999999999996%\n"
     ]
    }
   ],
   "source": [
    "prediction_fgsm = model.predict(examples_fgsm)\n",
    "\n",
    "acc_fgsm = np.sum(np.argmax(prediction_fgsm, axis=1) == np.argmax(y_test, axis=1)) / len(y_test)\n",
    "print('Accuracy on Adversarial Exmaples: {}%'.format(acc_fgsm * 100))"
   ]
  },
  {
   "cell_type": "markdown",
   "metadata": {
    "id": "xZFZ8ojQi_Tr"
   },
   "source": [
    "## 1-2) FGSM_noise\n",
    "### noise image -> x_test_noise"
   ]
  },
  {
   "cell_type": "code",
   "execution_count": 60,
   "metadata": {},
   "outputs": [],
   "source": [
    "# noise \n",
    "noise = np.random.normal(0,0.01,x_test.shape)\n",
    "x_test_noise1 = x_test_norm + noise\n",
    "x_test_noise1_reshape = x_test_noise1.reshape(-1,28,28,1)"
   ]
  },
  {
   "cell_type": "code",
   "execution_count": 61,
   "metadata": {
    "id": "V6-qdwgqcjeI"
   },
   "outputs": [
    {
     "name": "stdout",
     "output_type": "stream",
     "text": [
      "time: 1.1353540420532227\n",
      "CPU times: user 1.36 s, sys: 113 ms, total: 1.48 s\n",
      "Wall time: 1.14 s\n"
     ]
    }
   ],
   "source": [
    "%%time \n",
    "\n",
    "start = time.time() # 시작 시간 저장\n",
    "\n",
    "from art.attacks.evasion import FastGradientMethod\n",
    "#Create FGSM Instance\n",
    "attack_fgsm = FastGradientMethod(estimator, eps=0.2)\n",
    "\n",
    "#Create Adversarial Examples\n",
    "examples_fgsm = attack_fgsm.generate(x_test_noise1_reshape,y_test)\n",
    "\n",
    "print(\"time:\",time.time()-start) # 실행시간"
   ]
  },
  {
   "cell_type": "code",
   "execution_count": 62,
   "metadata": {
    "colab": {
     "base_uri": "https://localhost:8080/"
    },
    "id": "MKqRbSQUbBRZ",
    "outputId": "7944d557-8522-4ad0-8579-e857185871b9"
   },
   "outputs": [
    {
     "name": "stdout",
     "output_type": "stream",
     "text": [
      "Accuracy on Adversarial Exmaples: 59.0%\n"
     ]
    }
   ],
   "source": [
    "prediction_fgsm = model.predict(examples_fgsm)\n",
    "\n",
    "acc_fgsm = np.sum(np.argmax(prediction_fgsm, axis=1) == np.argmax(y_test, axis=1)) / len(y_test)\n",
    "print('Accuracy on Adversarial Exmaples: {}%'.format(acc_fgsm * 100))"
   ]
  },
  {
   "cell_type": "markdown",
   "metadata": {},
   "source": [
    "## noise 2 - sigma-0.03"
   ]
  },
  {
   "cell_type": "code",
   "execution_count": 63,
   "metadata": {},
   "outputs": [],
   "source": [
    "# noise 2\n",
    "noise2 = np.random.normal(0,0.03,x_test.shape)\n",
    "x_test_noise2 = x_test_norm + noise2\n",
    "x_test_noise2_reshape = x_test_noise2.reshape(-1,28,28,1)"
   ]
  },
  {
   "cell_type": "code",
   "execution_count": 64,
   "metadata": {},
   "outputs": [
    {
     "name": "stdout",
     "output_type": "stream",
     "text": [
      "time: 1.0824291706085205\n",
      "CPU times: user 1.33 s, sys: 110 ms, total: 1.44 s\n",
      "Wall time: 1.08 s\n"
     ]
    }
   ],
   "source": [
    "%%time \n",
    "\n",
    "start = time.time() # 시작 시간 저장\n",
    "\n",
    "from art.attacks.evasion import FastGradientMethod\n",
    "#Create FGSM Instance\n",
    "attack_fgsm = FastGradientMethod(estimator, eps=0.2)\n",
    "\n",
    "#Create Adversarial Examples\n",
    "examples_fgsm = attack_fgsm.generate(x_test_noise2_reshape,y_test)\n",
    "\n",
    "print(\"time:\",time.time()-start) # 실행시간"
   ]
  },
  {
   "cell_type": "code",
   "execution_count": 65,
   "metadata": {
    "scrolled": true
   },
   "outputs": [
    {
     "name": "stdout",
     "output_type": "stream",
     "text": [
      "Accuracy on Adversarial Exmaples: 56.75%\n"
     ]
    }
   ],
   "source": [
    "prediction_fgsm = model.predict(examples_fgsm)\n",
    "\n",
    "acc_fgsm = np.sum(np.argmax(prediction_fgsm, axis=1) == np.argmax(y_test, axis=1)) / len(y_test)\n",
    "print('Accuracy on Adversarial Exmaples: {}%'.format(acc_fgsm * 100))"
   ]
  },
  {
   "cell_type": "markdown",
   "metadata": {},
   "source": [
    "## noise 3 - sigma-0.05"
   ]
  },
  {
   "cell_type": "code",
   "execution_count": 66,
   "metadata": {},
   "outputs": [],
   "source": [
    "# noise 3\n",
    "noise3 = np.random.normal(0,0.05,x_test.shape)\n",
    "x_test_noise3 = x_test_norm + noise3\n",
    "x_test_noise3_reshape = x_test_noise3.reshape(-1,28,28,1)"
   ]
  },
  {
   "cell_type": "code",
   "execution_count": 67,
   "metadata": {},
   "outputs": [
    {
     "name": "stdout",
     "output_type": "stream",
     "text": [
      "time: 1.2144227027893066\n",
      "CPU times: user 1.51 s, sys: 133 ms, total: 1.65 s\n",
      "Wall time: 1.21 s\n"
     ]
    }
   ],
   "source": [
    "%%time \n",
    "\n",
    "start = time.time() # 시작 시간 저장\n",
    "\n",
    "from art.attacks.evasion import FastGradientMethod\n",
    "#Create FGSM Instance\n",
    "attack_fgsm = FastGradientMethod(estimator, eps=0.2)\n",
    "\n",
    "#Create Adversarial Examples\n",
    "examples_fgsm = attack_fgsm.generate(x_test_noise3_reshape,y_test)\n",
    "\n",
    "print(\"time:\",time.time()-start) # 실행시간"
   ]
  },
  {
   "cell_type": "code",
   "execution_count": 68,
   "metadata": {
    "scrolled": false
   },
   "outputs": [
    {
     "name": "stdout",
     "output_type": "stream",
     "text": [
      "Accuracy on Adversarial Exmaples: 53.89000000000001%\n"
     ]
    }
   ],
   "source": [
    "prediction_fgsm = model.predict(examples_fgsm)\n",
    "\n",
    "acc_fgsm = np.sum(np.argmax(prediction_fgsm, axis=1) == np.argmax(y_test, axis=1)) / len(y_test)\n",
    "print('Accuracy on Adversarial Exmaples: {}%'.format(acc_fgsm * 100))"
   ]
  },
  {
   "cell_type": "markdown",
   "metadata": {},
   "source": [
    "## noise 4 - sigma-0.07"
   ]
  },
  {
   "cell_type": "code",
   "execution_count": 69,
   "metadata": {},
   "outputs": [],
   "source": [
    "# noise 4\n",
    "noise4 = np.random.normal(0,0.07,x_test.shape)\n",
    "x_test_noise4 = x_test_norm + noise4\n",
    "x_test_noise4_reshape = x_test_noise4.reshape(-1,28,28,1)"
   ]
  },
  {
   "cell_type": "code",
   "execution_count": 70,
   "metadata": {},
   "outputs": [
    {
     "name": "stdout",
     "output_type": "stream",
     "text": [
      "time: 1.3031105995178223\n",
      "CPU times: user 1.67 s, sys: 121 ms, total: 1.79 s\n",
      "Wall time: 1.3 s\n"
     ]
    }
   ],
   "source": [
    "%%time \n",
    "\n",
    "start = time.time() # 시작 시간 저장\n",
    "\n",
    "from art.attacks.evasion import FastGradientMethod\n",
    "#Create FGSM Instance\n",
    "attack_fgsm = FastGradientMethod(estimator, eps=0.2)\n",
    "\n",
    "#Create Adversarial Examples\n",
    "examples_fgsm = attack_fgsm.generate(x_test_noise4_reshape,y_test)\n",
    "\n",
    "print(\"time:\",time.time()-start) # 실행시간"
   ]
  },
  {
   "cell_type": "code",
   "execution_count": 71,
   "metadata": {
    "scrolled": true
   },
   "outputs": [
    {
     "name": "stdout",
     "output_type": "stream",
     "text": [
      "Accuracy on Adversarial Exmaples: 50.470000000000006%\n"
     ]
    }
   ],
   "source": [
    "prediction_fgsm = model.predict(examples_fgsm)\n",
    "\n",
    "acc_fgsm = np.sum(np.argmax(prediction_fgsm, axis=1) == np.argmax(y_test, axis=1)) / len(y_test)\n",
    "print('Accuracy on Adversarial Exmaples: {}%'.format(acc_fgsm * 100))"
   ]
  },
  {
   "cell_type": "markdown",
   "metadata": {},
   "source": [
    "## noise 5 - sigma-0.1"
   ]
  },
  {
   "cell_type": "code",
   "execution_count": 72,
   "metadata": {},
   "outputs": [],
   "source": [
    "# noise 5\n",
    "noise5 = np.random.normal(0,0.1,x_test.shape)\n",
    "x_test_noise5 = x_test_norm + noise5\n",
    "x_test_noise5_reshape = x_test_noise5.reshape(-1,28,28,1)"
   ]
  },
  {
   "cell_type": "code",
   "execution_count": 73,
   "metadata": {},
   "outputs": [
    {
     "name": "stdout",
     "output_type": "stream",
     "text": [
      "time: 1.049828290939331\n",
      "CPU times: user 1.27 s, sys: 127 ms, total: 1.4 s\n",
      "Wall time: 1.05 s\n"
     ]
    }
   ],
   "source": [
    "%%time \n",
    "\n",
    "start = time.time() # 시작 시간 저장\n",
    "\n",
    "from art.attacks.evasion import FastGradientMethod\n",
    "#Create FGSM Instance\n",
    "attack_fgsm = FastGradientMethod(estimator, eps=0.2)\n",
    "\n",
    "#Create Adversarial Examples\n",
    "examples_fgsm = attack_fgsm.generate(x_test_noise5_reshape,y_test)\n",
    "\n",
    "print(\"time:\",time.time()-start) # 실행시간"
   ]
  },
  {
   "cell_type": "code",
   "execution_count": 74,
   "metadata": {
    "scrolled": false
   },
   "outputs": [
    {
     "name": "stdout",
     "output_type": "stream",
     "text": [
      "Accuracy on Adversarial Exmaples: 45.79%\n"
     ]
    }
   ],
   "source": [
    "prediction_fgsm = model.predict(examples_fgsm)\n",
    "\n",
    "acc_fgsm = np.sum(np.argmax(prediction_fgsm, axis=1) == np.argmax(y_test, axis=1)) / len(y_test)\n",
    "print('Accuracy on Adversarial Exmaples: {}%'.format(acc_fgsm * 100))"
   ]
  },
  {
   "cell_type": "markdown",
   "metadata": {},
   "source": [
    "## noise 6 - sigma-0.2"
   ]
  },
  {
   "cell_type": "code",
   "execution_count": 75,
   "metadata": {},
   "outputs": [],
   "source": [
    "# noise 6\n",
    "noise6 = np.random.normal(0,0.2,x_test.shape)\n",
    "x_test_noise6 = x_test_norm + noise6\n",
    "x_test_noise6_reshape = x_test_noise6.reshape(-1,28,28,1)"
   ]
  },
  {
   "cell_type": "code",
   "execution_count": 76,
   "metadata": {},
   "outputs": [
    {
     "name": "stdout",
     "output_type": "stream",
     "text": [
      "time: 1.0588874816894531\n",
      "CPU times: user 1.32 s, sys: 93.3 ms, total: 1.41 s\n",
      "Wall time: 1.06 s\n"
     ]
    }
   ],
   "source": [
    "%%time \n",
    "\n",
    "start = time.time() # 시작 시간 저장\n",
    "\n",
    "from art.attacks.evasion import FastGradientMethod\n",
    "#Create FGSM Instance\n",
    "attack_fgsm = FastGradientMethod(estimator, eps=0.2)\n",
    "\n",
    "#Create Adversarial Examples\n",
    "examples_fgsm = attack_fgsm.generate(x_test_noise6_reshape,y_test)\n",
    "\n",
    "print(\"time:\",time.time()-start) # 실행시간"
   ]
  },
  {
   "cell_type": "code",
   "execution_count": 77,
   "metadata": {
    "scrolled": false
   },
   "outputs": [
    {
     "name": "stdout",
     "output_type": "stream",
     "text": [
      "Accuracy on Adversarial Exmaples: 24.2%\n"
     ]
    }
   ],
   "source": [
    "prediction_fgsm = model.predict(examples_fgsm)\n",
    "\n",
    "acc_fgsm = np.sum(np.argmax(prediction_fgsm, axis=1) == np.argmax(y_test, axis=1)) / len(y_test)\n",
    "print('Accuracy on Adversarial Exmaples: {}%'.format(acc_fgsm * 100))"
   ]
  },
  {
   "cell_type": "markdown",
   "metadata": {
    "id": "1gb-mQOFholG"
   },
   "source": [
    "# 1-3. FGSM eps=0.3"
   ]
  },
  {
   "cell_type": "markdown",
   "metadata": {
    "id": "xZFZ8ojQi_Tr"
   },
   "source": [
    "## 1-1) FGSM_origin\n",
    "### 원본 이미지 x_test"
   ]
  },
  {
   "cell_type": "code",
   "execution_count": 78,
   "metadata": {},
   "outputs": [
    {
     "name": "stdout",
     "output_type": "stream",
     "text": [
      "time: 1.0228149890899658\n",
      "CPU times: user 1.29 s, sys: 95.1 ms, total: 1.39 s\n",
      "Wall time: 1.02 s\n"
     ]
    }
   ],
   "source": [
    "%%time \n",
    "\n",
    "start = time.time() # 시작 시간 저장\n",
    "\n",
    "from art.attacks.evasion import FastGradientMethod\n",
    "#Create FGSM Instance\n",
    "attack_fgsm = FastGradientMethod(estimator, eps=0.3)\n",
    "\n",
    "#Create Adversarial Examples\n",
    "examples_fgsm = attack_fgsm.generate(x_test_reshaped,y_test)\n",
    "\n",
    "print(\"time:\",time.time()-start) # 실행시간"
   ]
  },
  {
   "cell_type": "code",
   "execution_count": 79,
   "metadata": {},
   "outputs": [
    {
     "name": "stdout",
     "output_type": "stream",
     "text": [
      "Accuracy on Adversarial Exmaples: 37.92%\n"
     ]
    }
   ],
   "source": [
    "prediction_fgsm = model.predict(examples_fgsm)\n",
    "\n",
    "acc_fgsm = np.sum(np.argmax(prediction_fgsm, axis=1) == np.argmax(y_test, axis=1)) / len(y_test)\n",
    "print('Accuracy on Adversarial Exmaples: {}%'.format(acc_fgsm * 100))"
   ]
  },
  {
   "cell_type": "markdown",
   "metadata": {
    "id": "xZFZ8ojQi_Tr"
   },
   "source": [
    "## 1-2) FGSM_noise\n",
    "### noise image -> x_test_noise"
   ]
  },
  {
   "cell_type": "code",
   "execution_count": 80,
   "metadata": {},
   "outputs": [],
   "source": [
    "# noise \n",
    "noise = np.random.normal(0,0.01,x_test.shape)\n",
    "x_test_noise1 = x_test_norm + noise\n",
    "x_test_noise1_reshape = x_test_noise1.reshape(-1,28,28,1)"
   ]
  },
  {
   "cell_type": "code",
   "execution_count": 81,
   "metadata": {
    "id": "V6-qdwgqcjeI"
   },
   "outputs": [
    {
     "name": "stdout",
     "output_type": "stream",
     "text": [
      "time: 1.0267248153686523\n",
      "CPU times: user 1.28 s, sys: 87.7 ms, total: 1.37 s\n",
      "Wall time: 1.03 s\n"
     ]
    }
   ],
   "source": [
    "%%time \n",
    "\n",
    "start = time.time() # 시작 시간 저장\n",
    "\n",
    "from art.attacks.evasion import FastGradientMethod\n",
    "#Create FGSM Instance\n",
    "attack_fgsm = FastGradientMethod(estimator, eps=0.3)\n",
    "\n",
    "#Create Adversarial Examples\n",
    "examples_fgsm = attack_fgsm.generate(x_test_noise1_reshape,y_test)\n",
    "\n",
    "print(\"time:\",time.time()-start) # 실행시간"
   ]
  },
  {
   "cell_type": "code",
   "execution_count": 82,
   "metadata": {
    "colab": {
     "base_uri": "https://localhost:8080/"
    },
    "id": "MKqRbSQUbBRZ",
    "outputId": "7944d557-8522-4ad0-8579-e857185871b9"
   },
   "outputs": [
    {
     "name": "stdout",
     "output_type": "stream",
     "text": [
      "Accuracy on Adversarial Exmaples: 37.49%\n"
     ]
    }
   ],
   "source": [
    "prediction_fgsm = model.predict(examples_fgsm)\n",
    "\n",
    "acc_fgsm = np.sum(np.argmax(prediction_fgsm, axis=1) == np.argmax(y_test, axis=1)) / len(y_test)\n",
    "print('Accuracy on Adversarial Exmaples: {}%'.format(acc_fgsm * 100))"
   ]
  },
  {
   "cell_type": "markdown",
   "metadata": {},
   "source": [
    "## noise 2 - sigma-0.03"
   ]
  },
  {
   "cell_type": "code",
   "execution_count": 83,
   "metadata": {},
   "outputs": [],
   "source": [
    "# noise 2\n",
    "noise2 = np.random.normal(0,0.03,x_test.shape)\n",
    "x_test_noise2 = x_test_norm + noise2\n",
    "x_test_noise2_reshape = x_test_noise2.reshape(-1,28,28,1)"
   ]
  },
  {
   "cell_type": "code",
   "execution_count": 84,
   "metadata": {},
   "outputs": [
    {
     "name": "stdout",
     "output_type": "stream",
     "text": [
      "time: 1.1029441356658936\n",
      "CPU times: user 1.39 s, sys: 102 ms, total: 1.5 s\n",
      "Wall time: 1.1 s\n"
     ]
    }
   ],
   "source": [
    "%%time \n",
    "\n",
    "start = time.time() # 시작 시간 저장\n",
    "\n",
    "from art.attacks.evasion import FastGradientMethod\n",
    "#Create FGSM Instance\n",
    "attack_fgsm = FastGradientMethod(estimator, eps=0.3)\n",
    "\n",
    "#Create Adversarial Examples\n",
    "examples_fgsm = attack_fgsm.generate(x_test_noise2_reshape,y_test)\n",
    "\n",
    "print(\"time:\",time.time()-start) # 실행시간"
   ]
  },
  {
   "cell_type": "code",
   "execution_count": 85,
   "metadata": {
    "scrolled": true
   },
   "outputs": [
    {
     "name": "stdout",
     "output_type": "stream",
     "text": [
      "Accuracy on Adversarial Exmaples: 35.24%\n"
     ]
    }
   ],
   "source": [
    "prediction_fgsm = model.predict(examples_fgsm)\n",
    "\n",
    "acc_fgsm = np.sum(np.argmax(prediction_fgsm, axis=1) == np.argmax(y_test, axis=1)) / len(y_test)\n",
    "print('Accuracy on Adversarial Exmaples: {}%'.format(acc_fgsm * 100))"
   ]
  },
  {
   "cell_type": "markdown",
   "metadata": {},
   "source": [
    "## noise 3 - sigma-0.05"
   ]
  },
  {
   "cell_type": "code",
   "execution_count": 86,
   "metadata": {},
   "outputs": [],
   "source": [
    "# noise 3\n",
    "noise3 = np.random.normal(0,0.05,x_test.shape)\n",
    "x_test_noise3 = x_test_norm + noise3\n",
    "x_test_noise3_reshape = x_test_noise3.reshape(-1,28,28,1)"
   ]
  },
  {
   "cell_type": "code",
   "execution_count": 87,
   "metadata": {},
   "outputs": [
    {
     "name": "stdout",
     "output_type": "stream",
     "text": [
      "time: 1.1114296913146973\n",
      "CPU times: user 1.41 s, sys: 91.4 ms, total: 1.5 s\n",
      "Wall time: 1.11 s\n"
     ]
    }
   ],
   "source": [
    "%%time \n",
    "\n",
    "start = time.time() # 시작 시간 저장\n",
    "\n",
    "from art.attacks.evasion import FastGradientMethod\n",
    "#Create FGSM Instance\n",
    "attack_fgsm = FastGradientMethod(estimator, eps=0.3)\n",
    "\n",
    "#Create Adversarial Examples\n",
    "examples_fgsm = attack_fgsm.generate(x_test_noise3_reshape,y_test)\n",
    "\n",
    "print(\"time:\",time.time()-start) # 실행시간"
   ]
  },
  {
   "cell_type": "code",
   "execution_count": 88,
   "metadata": {
    "scrolled": false
   },
   "outputs": [
    {
     "name": "stdout",
     "output_type": "stream",
     "text": [
      "Accuracy on Adversarial Exmaples: 33.29%\n"
     ]
    }
   ],
   "source": [
    "prediction_fgsm = model.predict(examples_fgsm)\n",
    "\n",
    "acc_fgsm = np.sum(np.argmax(prediction_fgsm, axis=1) == np.argmax(y_test, axis=1)) / len(y_test)\n",
    "print('Accuracy on Adversarial Exmaples: {}%'.format(acc_fgsm * 100))"
   ]
  },
  {
   "cell_type": "markdown",
   "metadata": {},
   "source": [
    "## noise 4 - sigma-0.07"
   ]
  },
  {
   "cell_type": "code",
   "execution_count": 89,
   "metadata": {},
   "outputs": [],
   "source": [
    "# noise 4\n",
    "noise4 = np.random.normal(0,0.07,x_test.shape)\n",
    "x_test_noise4 = x_test_norm + noise4\n",
    "x_test_noise4_reshape = x_test_noise4.reshape(-1,28,28,1)"
   ]
  },
  {
   "cell_type": "code",
   "execution_count": 90,
   "metadata": {},
   "outputs": [
    {
     "name": "stdout",
     "output_type": "stream",
     "text": [
      "time: 1.1905481815338135\n",
      "CPU times: user 1.48 s, sys: 148 ms, total: 1.63 s\n",
      "Wall time: 1.19 s\n"
     ]
    }
   ],
   "source": [
    "%%time \n",
    "\n",
    "start = time.time() # 시작 시간 저장\n",
    "\n",
    "from art.attacks.evasion import FastGradientMethod\n",
    "#Create FGSM Instance\n",
    "attack_fgsm = FastGradientMethod(estimator, eps=0.3)\n",
    "\n",
    "#Create Adversarial Examples\n",
    "examples_fgsm = attack_fgsm.generate(x_test_noise4_reshape,y_test)\n",
    "\n",
    "print(\"time:\",time.time()-start) # 실행시간"
   ]
  },
  {
   "cell_type": "code",
   "execution_count": 91,
   "metadata": {
    "scrolled": true
   },
   "outputs": [
    {
     "name": "stdout",
     "output_type": "stream",
     "text": [
      "Accuracy on Adversarial Exmaples: 30.84%\n"
     ]
    }
   ],
   "source": [
    "prediction_fgsm = model.predict(examples_fgsm)\n",
    "\n",
    "acc_fgsm = np.sum(np.argmax(prediction_fgsm, axis=1) == np.argmax(y_test, axis=1)) / len(y_test)\n",
    "print('Accuracy on Adversarial Exmaples: {}%'.format(acc_fgsm * 100))"
   ]
  },
  {
   "cell_type": "markdown",
   "metadata": {},
   "source": [
    "## noise 5 - sigma-0.1"
   ]
  },
  {
   "cell_type": "code",
   "execution_count": 92,
   "metadata": {},
   "outputs": [],
   "source": [
    "# noise 5\n",
    "noise5 = np.random.normal(0,0.1,x_test.shape)\n",
    "x_test_noise5 = x_test_norm + noise5\n",
    "x_test_noise5_reshape = x_test_noise5.reshape(-1,28,28,1)"
   ]
  },
  {
   "cell_type": "code",
   "execution_count": 93,
   "metadata": {},
   "outputs": [
    {
     "name": "stdout",
     "output_type": "stream",
     "text": [
      "time: 1.1356945037841797\n",
      "CPU times: user 1.43 s, sys: 98.2 ms, total: 1.53 s\n",
      "Wall time: 1.14 s\n"
     ]
    }
   ],
   "source": [
    "%%time \n",
    "\n",
    "start = time.time() # 시작 시간 저장\n",
    "\n",
    "from art.attacks.evasion import FastGradientMethod\n",
    "#Create FGSM Instance\n",
    "attack_fgsm = FastGradientMethod(estimator, eps=0.3)\n",
    "\n",
    "#Create Adversarial Examples\n",
    "examples_fgsm = attack_fgsm.generate(x_test_noise5_reshape,y_test)\n",
    "\n",
    "print(\"time:\",time.time()-start) # 실행시간"
   ]
  },
  {
   "cell_type": "code",
   "execution_count": 94,
   "metadata": {
    "scrolled": false
   },
   "outputs": [
    {
     "name": "stdout",
     "output_type": "stream",
     "text": [
      "Accuracy on Adversarial Exmaples: 27.24%\n"
     ]
    }
   ],
   "source": [
    "prediction_fgsm = model.predict(examples_fgsm)\n",
    "\n",
    "acc_fgsm = np.sum(np.argmax(prediction_fgsm, axis=1) == np.argmax(y_test, axis=1)) / len(y_test)\n",
    "print('Accuracy on Adversarial Exmaples: {}%'.format(acc_fgsm * 100))"
   ]
  },
  {
   "cell_type": "markdown",
   "metadata": {},
   "source": [
    "## noise 6 - sigma-0.2"
   ]
  },
  {
   "cell_type": "code",
   "execution_count": 95,
   "metadata": {},
   "outputs": [],
   "source": [
    "# noise 6\n",
    "noise6 = np.random.normal(0,0.2,x_test.shape)\n",
    "x_test_noise6 = x_test_norm + noise6\n",
    "x_test_noise6_reshape = x_test_noise6.reshape(-1,28,28,1)"
   ]
  },
  {
   "cell_type": "code",
   "execution_count": 96,
   "metadata": {},
   "outputs": [
    {
     "name": "stdout",
     "output_type": "stream",
     "text": [
      "time: 1.1915056705474854\n",
      "CPU times: user 1.5 s, sys: 118 ms, total: 1.62 s\n",
      "Wall time: 1.19 s\n"
     ]
    }
   ],
   "source": [
    "%%time \n",
    "\n",
    "start = time.time() # 시작 시간 저장\n",
    "\n",
    "from art.attacks.evasion import FastGradientMethod\n",
    "#Create FGSM Instance\n",
    "attack_fgsm = FastGradientMethod(estimator, eps=0.3)\n",
    "\n",
    "#Create Adversarial Examples\n",
    "examples_fgsm = attack_fgsm.generate(x_test_noise6_reshape,y_test)\n",
    "\n",
    "print(\"time:\",time.time()-start) # 실행시간"
   ]
  },
  {
   "cell_type": "code",
   "execution_count": 97,
   "metadata": {
    "scrolled": false
   },
   "outputs": [
    {
     "name": "stdout",
     "output_type": "stream",
     "text": [
      "Accuracy on Adversarial Exmaples: 15.509999999999998%\n"
     ]
    }
   ],
   "source": [
    "prediction_fgsm = model.predict(examples_fgsm)\n",
    "\n",
    "acc_fgsm = np.sum(np.argmax(prediction_fgsm, axis=1) == np.argmax(y_test, axis=1)) / len(y_test)\n",
    "print('Accuracy on Adversarial Exmaples: {}%'.format(acc_fgsm * 100))"
   ]
  },
  {
   "cell_type": "code",
   "execution_count": null,
   "metadata": {},
   "outputs": [],
   "source": []
  }
 ],
 "metadata": {
  "colab": {
   "collapsed_sections": [],
   "name": "Adversarial attack_FGM.ipynb",
   "provenance": []
  },
  "kernelspec": {
   "display_name": "Python 3",
   "language": "python",
   "name": "python3"
  },
  "language_info": {
   "codemirror_mode": {
    "name": "ipython",
    "version": 3
   },
   "file_extension": ".py",
   "mimetype": "text/x-python",
   "name": "python",
   "nbconvert_exporter": "python",
   "pygments_lexer": "ipython3",
   "version": "3.7.10"
  }
 },
 "nbformat": 4,
 "nbformat_minor": 1
}
